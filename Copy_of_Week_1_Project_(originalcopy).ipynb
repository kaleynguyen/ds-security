{
  "nbformat": 4,
  "nbformat_minor": 0,
  "metadata": {
    "colab": {
      "provenance": [],
      "include_colab_link": true
    },
    "kernelspec": {
      "name": "python3",
      "display_name": "Python 3"
    },
    "language_info": {
      "name": "python"
    }
  },
  "cells": [
    {
      "cell_type": "markdown",
      "metadata": {
        "id": "view-in-github",
        "colab_type": "text"
      },
      "source": [
        "<a href=\"https://colab.research.google.com/github/kaleynguyen/ds-security/blob/main/Copy_of_Week_1_Project_(originalcopy).ipynb\" target=\"_parent\"><img src=\"https://colab.research.google.com/assets/colab-badge.svg\" alt=\"Open In Colab\"/></a>"
      ]
    },
    {
      "cell_type": "markdown",
      "source": [
        "# Week 1 Project\n",
        "\n",
        "Welcome to our week 1 project! This notebook will help you get started to explore the Alpha Bank website at https://class.disfraud.com/.\n",
        "\n",
        "For reference, the project instructions can be found at https://corise.com/course/data-science-for-security/module/week-1-project. "
      ],
      "metadata": {
        "id": "EzHgDdeNdKe8"
      }
    },
    {
      "cell_type": "markdown",
      "source": [
        "## Explore the Alpha Bank website\n",
        "\n",
        "The first step is to visit the Alpha Bank website on your browser, and inspect the website via Developer Tools.\n",
        "\n",
        "As a refresher, here is a [link to the course material (videos)](https://corise.com/course/data-science-for-security/module/using-browser-developer-tools) on using Developer Tools.\n",
        "\n",
        "Try creating several accounts. Here are some guiding questions:\n",
        "\n",
        "* What do you notice, for each request and response? What is in the request and response JSON?\n",
        "* What feedback does the website provide? Are there any useful messages that might help you constrain your \"attack space\"?\n",
        "* What is the format of each username? What are the password requirements/restrictions?\n",
        "* Are there any endpoints that aren't protected?"
      ],
      "metadata": {
        "id": "OqYHqKWqdUVD"
      }
    },
    {
      "cell_type": "markdown",
      "source": [
        "## Perform a simple login to your own account\n",
        "\n",
        "Here is some code that uses Python requests to make a POST request to the login API endpoint.\n",
        "\n",
        "To obtain url and post_body, first inspect the request sent by your browser when you (manually) login to your own account.\n",
        "\n",
        "How do you think the token is generated?"
      ],
      "metadata": {
        "id": "CZOnIsULdi5t"
      }
    },
    {
      "cell_type": "code",
      "source": [
        "import requests\n",
        "\n",
        "# Update URL and post_body below\n",
        "url = \"\"\n",
        "post_body = {}\n",
        "response = requests.post(url, json=post_body)\n",
        "\n",
        "response.json()"
      ],
      "metadata": {
        "id": "2cQ104JOdI-X"
      },
      "execution_count": null,
      "outputs": []
    },
    {
      "cell_type": "markdown",
      "source": [
        "### A note on Python requests\n",
        "\n",
        "If you use Python requests, and need to pass along a dictionary in your request, remember to either specify a `content-type` header or use the json argument.\n",
        "\n",
        "As an example, both of these requests won't work properly (you'll likely get a server error):\n",
        "\n",
        "```\n",
        "post_body = {\"param1\": \"value1\", \"param2\": \"value2\"}\n",
        "response = requests.post(url, data=post_body)\n",
        "response = requests.post(url, data=json.dumps(post_body))\n",
        "```\n",
        "\n",
        "You'll need to do either this:\n",
        "\n",
        "```\n",
        "post_body = {\"param1\": \"value1\", \"param2\": \"value2\"}\n",
        "headers = {\n",
        "    \"Content-type\": \"application/json\"\n",
        "}\n",
        "response = requests.post(url, data=json.dumps(post_body), headers=headers)\n",
        "```\n",
        "\n",
        "Or this (which I prefer, as it is cleaner):\n",
        "\n",
        "```\n",
        "post_body = {\"param1\": \"value1\", \"param2\": \"value2\"}\n",
        "response = requests.post(url, json=post_body)\n",
        "```\n",
        "\n",
        "In the latter example, Python automatically specifies the right header in your request, so you don't have to worry about it."
      ],
      "metadata": {
        "id": "LRGg9yqRvTlo"
      }
    },
    {
      "cell_type": "markdown",
      "source": [
        "# Infer pattern(s) from security tokens\n",
        "\n",
        "Let's try to fetch a larger sample of tokens and see if we can infer some common pattern."
      ],
      "metadata": {
        "id": "VSHambeUeT6P"
      }
    },
    {
      "cell_type": "code",
      "source": [
        "url = \"\"\n",
        "post_body = {}\n",
        "\n",
        "tokens = []\n",
        "for i in range(10):\n",
        "    response = requests.post(url, json=post_body)\n",
        "    response_json = response.json()\n",
        "    token = response_json[\"new_token\"]\n",
        "    tokens.append(token)\n",
        "\n",
        "tokens"
      ],
      "metadata": {
        "id": "kdXtSByoeWKO"
      },
      "execution_count": null,
      "outputs": []
    },
    {
      "cell_type": "markdown",
      "source": [
        "## Generating tokens programmatically\n",
        "\n",
        "Now that you understand what a token is, can you write a function to generate your own token?"
      ],
      "metadata": {
        "id": "UZaYvYh4eZqY"
      }
    },
    {
      "cell_type": "code",
      "source": [
        "def generate_token():\n",
        "    token = \"\"\n",
        "    return token"
      ],
      "metadata": {
        "id": "wZl5rUI_ecOz"
      },
      "execution_count": null,
      "outputs": []
    },
    {
      "cell_type": "markdown",
      "source": [
        "Hint: If you get stuck on this for more than 10 minutes, read the [\"Detour\"](https://corise.com/course/data-science-for-security/module/web-apps-101) section in these course notes carefully.\n",
        " \n",
        "If you still need help, reach out on Slack!"
      ],
      "metadata": {
        "id": "QpIt3_5pegdv"
      }
    },
    {
      "cell_type": "markdown",
      "source": [
        "## Taking over accounts\n",
        "\n",
        "Since you are now able to generate a valid security token anytime, it should be trivial for you to take over some accounts.\n",
        "\n",
        "Here are some tips to get you started.\n",
        "\n",
        "### Account numbers\n",
        "What is the range of valid account numbers? _(Hint: if you don't know, or can't remember, try creating a new account. Was there a helpful notice somewhere?)_\n",
        "\n",
        "### Passwords\n",
        "What is the password format? _(Hint: if you aren't sure, go to the 'create account' page and walk through the process of choosing a password!)_\n",
        "\n",
        "It is definitely possible to brute force these passwords... but is there a better way?\n",
        "\n",
        "Some passwords are more common than others. Based on the password format, what do you think are some likely passwords? _(Hint: Google is your friend. A lot has been written about this.)_\n",
        "\n",
        "---\n",
        "\n",
        "**Helpful Python tip:**\n",
        "If you need to pad your number to a certain fixed length, try the `zfill()` method.\n"
      ],
      "metadata": {
        "id": "B9evYyUKetKM"
      }
    },
    {
      "cell_type": "code",
      "source": [
        "# Define the list of accounts\n",
        "accounts = []\n",
        "\n",
        "# Define the potential password range\n",
        "passwords = []\n"
      ],
      "metadata": {
        "id": "SODzaRzRerxv"
      },
      "execution_count": null,
      "outputs": []
    },
    {
      "cell_type": "markdown",
      "source": [
        "# Setting up and running your attack script\n",
        "\n",
        "Now that you have your target accounts and potential passwords set up, you should be able to programmatically find out which accounts can be taken over. Good thing Alpha Bank has no 2FA in place!\n",
        "\n",
        "Executing this \"account discovery\" process should be a simple matter of running a set of for loops.\n",
        "\n",
        "Please be kind to the bank and to your classmates: try not to bring the bank's website down!\n",
        "\n",
        "---\n",
        "\n",
        "**Helpful Python tip:**\n",
        "\n",
        "Insert some random amount of time before every consecutive request! `sleep()` is your friend. If you don't observe this, you may get blocked (by your ISP / by the server / by anything in between)."
      ],
      "metadata": {
        "id": "CAsoEfMHi1Fe"
      }
    },
    {
      "cell_type": "code",
      "source": [
        "import json\n",
        "\n",
        "def get_account_balance(account_number, password):\n",
        "    \"\"\"Attempt a login to account_number with password, to discover the account balance.\"\"\"\n",
        "    login_success = False\n",
        "    account_balance = 0\n",
        "    token = generate_token()\n",
        "\n",
        "    # your code here\n",
        "    \n",
        "    return login_success, account_balance\n",
        "\n",
        "def discover_accounts(accounts, passwords):\n",
        "    \"\"\"Attack Alpha Bank's login endpoint to discover whether accounts exist.\"\"\"\n",
        "\n",
        "    valid_accounts = []\n",
        "\n",
        "    for account in accounts:\n",
        "        # Implement some stop condition here.\n",
        "        # Don't be greedy! There is no need to discover ALL possible accounts. \n",
        "        # As long as you think you'll earn enough from all the account balances you've discovered...\n",
        "\n",
        "        cracked = False\n",
        "        for password in passwords:\n",
        "            cracked, balance = get_account_balance(account, password)\n",
        "            if cracked:\n",
        "                print(f\"Bingo! One more account: {account}. Password: {password}. Balance: ${balance:,}\")\n",
        "                valid_accounts.push({\"account\": account, \"password\": password, \"balance\": balance})\n",
        "                continue\n",
        "    \n",
        "    return valid_accounts\n",
        "\n",
        "valid_accounts = discover_accounts(accounts, passwords)\n",
        "\n",
        "# Better save your valid accounts to a text file in case this notebook crashes!\n",
        "with open(\"gold_mine.txt\", \"w\") as f:\n",
        "    f.write(json.dumps(valid_accounts))"
      ],
      "metadata": {
        "id": "zOrgXcNcjRIC"
      },
      "execution_count": null,
      "outputs": []
    },
    {
      "cell_type": "markdown",
      "source": [
        "# Transferring money\n",
        "\n",
        "Great! Now you have (hopefully) gathered a number of accounts. You'll need to figure out how to transfer money from those accounts to your own.\n",
        "\n",
        "The best way to test this is to create two or more accounts of your own, and transfer money between them. (Don't worry, Alpha Bank does not charge transfer fees! That may change in the future though.)\n",
        "\n",
        "As you did for the login, watch the JSON requests and responses for money transfer.\n",
        "\n",
        "---\n",
        "\n",
        "**Helpful Python tip:**\n",
        "\n",
        "Since we are making multiple calls, it will be easier to use a requests session. This helps you manage cookies easily between requests in the same session.\n",
        "\n",
        "See documentation [here](https://requests.readthedocs.io/en/latest/user/advanced/). I've included some boilerplate code below."
      ],
      "metadata": {
        "id": "TqoBnn3hmF73"
      }
    },
    {
      "cell_type": "code",
      "source": [
        "import requests\n",
        "import json\n",
        "\n",
        "def login_and_transfer_money(source_account, target_account):\n",
        "    \"\"\"Performs a login to source_account and transfers money to target_account.\"\"\"\n",
        "    login_url = \"\"\n",
        "    money_transfer_url = \"\"\n",
        "    transferred_amount = 0\n",
        "    updated_target_account_balance = None\n",
        "\n",
        "    with requests.Session() as s:\n",
        "        # This initiates the requests within a session. The benefit is that any cookies are captured automatically.\n",
        "        login_body = {\n",
        "            \"...\": \"...\"\n",
        "        }\n",
        "        r = s.post(login_url, json=login_body)\n",
        "        \n",
        "        # Response headers are available in r.headers.\n",
        "        # To inspect them, do something like:\n",
        "        #   print(json.dumps(dict(r.headers), indent=4))\n",
        "        \n",
        "        # Request cookies are found in a \"requests cookie jar\", with:\n",
        "        #   r.cookies\n",
        "\n",
        "        # Call money transfer endpoint\n",
        "        # Do you want to transfer all of the money, or leave some money behind?\n",
        "        money_transfer_body = {\n",
        "            \"...\": \"...\"\n",
        "        }\n",
        "        r2 = s.post(money_transfer_url, json=money_transfer_body)\n",
        "\n",
        "        # Check the response that you receive, and infer if your money has been transferred successfully.\n",
        "        # You can also get your updated balance from your response.\n",
        "\n",
        "    return transferred_amount, updated_target_account_balance"
      ],
      "metadata": {
        "id": "jLPMWvQemEcK"
      },
      "execution_count": null,
      "outputs": []
    },
    {
      "cell_type": "markdown",
      "source": [
        "# Time to get rich!\n",
        "\n",
        "Now that you've managed to login and perform money transfers automatically, let's see how much money you can get into your own account!"
      ],
      "metadata": {
        "id": "JN9pIXvHoB5-"
      }
    },
    {
      "cell_type": "code",
      "source": [
        "def get_rich_quick(compromised_accounts, my_account):\n",
        "    \"\"\"The final battle.\"\"\"\n",
        "    total_amount_transferred = 0\n",
        "    for account in compromised_accounts:\n",
        "        transferred_amount, updated_target_account_balance = login_and_transfer_money(account, my_account)\n",
        "        print(f\"Transferred {transferred_amount} from {account}. My new balance: ${updated_target_account_balance:,}\")\n",
        "        total_amount_transferred += transferred_amount\n",
        "    print(f\"Final balance: ${updated_target_account_balance:,}\")\n",
        "    print(f\"Total $$ swindled: ${total_amount_transferred:,}\")"
      ],
      "metadata": {
        "id": "C-sUiOUypL7u"
      },
      "execution_count": null,
      "outputs": []
    }
  ]
}